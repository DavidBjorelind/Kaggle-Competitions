{
 "cells": [
  {
   "cell_type": "code",
   "execution_count": 106,
   "metadata": {},
   "outputs": [],
   "source": [
    "import pandas as pd\n",
    "from sklearn import svm\n",
    "\n",
    "\n"
   ]
  },
  {
   "cell_type": "code",
   "execution_count": 1,
   "metadata": {},
   "outputs": [
    {
     "ename": "NameError",
     "evalue": "name 'pd' is not defined",
     "output_type": "error",
     "traceback": [
      "\u001b[0;31m---------------------------------------------------------------------------\u001b[0m",
      "\u001b[0;31mNameError\u001b[0m                                 Traceback (most recent call last)",
      "\u001b[0;32m<ipython-input-1-6e007c00d6ff>\u001b[0m in \u001b[0;36m<module>\u001b[0;34m\u001b[0m\n\u001b[0;32m----> 1\u001b[0;31m \u001b[0mtest_data\u001b[0m \u001b[0;34m=\u001b[0m \u001b[0mpd\u001b[0m\u001b[0;34m.\u001b[0m\u001b[0mread_csv\u001b[0m\u001b[0;34m(\u001b[0m\u001b[0;34m\"test.csv\"\u001b[0m\u001b[0;34m)\u001b[0m\u001b[0;34m\u001b[0m\u001b[0;34m\u001b[0m\u001b[0m\n\u001b[0m\u001b[1;32m      2\u001b[0m \u001b[0mtrain_data\u001b[0m \u001b[0;34m=\u001b[0m \u001b[0mpd\u001b[0m\u001b[0;34m.\u001b[0m\u001b[0mread_csv\u001b[0m\u001b[0;34m(\u001b[0m\u001b[0;34m\"train.csv\"\u001b[0m\u001b[0;34m)\u001b[0m\u001b[0;34m\u001b[0m\u001b[0;34m\u001b[0m\u001b[0m\n\u001b[1;32m      3\u001b[0m \u001b[0mfeat\u001b[0m \u001b[0;34m=\u001b[0m \u001b[0mtrain_data\u001b[0m\u001b[0;34m.\u001b[0m\u001b[0mcolumns\u001b[0m\u001b[0;34m\u001b[0m\u001b[0;34m\u001b[0m\u001b[0m\n\u001b[1;32m      4\u001b[0m \u001b[0;34m\u001b[0m\u001b[0m\n\u001b[1;32m      5\u001b[0m \u001b[0;31m# Data manipulation\u001b[0m\u001b[0;34m\u001b[0m\u001b[0;34m\u001b[0m\u001b[0;34m\u001b[0m\u001b[0m\n",
      "\u001b[0;31mNameError\u001b[0m: name 'pd' is not defined"
     ]
    }
   ],
   "source": [
    "test_data = pd.read_csv(\"test.csv\")\n",
    "train_data = pd.read_csv(\"train.csv\")\n",
    "feat = train_data.columns\n",
    "\n",
    "# Data manipulation\n",
    "mapping = {'S':1, 'C':2, 'Q':3}\n",
    "#test_data['Embarked'] = [mapping[i] for i in test_data['Embarked']]\n",
    "#train_data['Embarked'] = [mapping[i] for i in train_data['Embarked']]\n",
    "test_data.replace(to_replace=['S', 'C', 'Q'], value=[1,2,3], inplace=True)\n",
    "train_data.replace(to_replace=['S', 'C', 'Q'], value=[1,2,3], inplace=True)\n",
    "\n",
    "test_data.replace(to_replace=['male', 'female'], value=[1,2], inplace=True)\n",
    "train_data.replace(to_replace=['male', 'female'], value=[1,2], inplace=True)\n",
    "\n",
    "# Dropping NaNs\n",
    "#test_data.Age = test_data.Age.fillna(0, inplace= True)\n",
    "#train_data.Age = train_data.Age.fillna(0, inplace = True)\n",
    "\n",
    "test_data = test_data.fillna(0)\n",
    "train_data = train_data.fillna(0)\n",
    "\n",
    "used_feats = ['Pclass', 'Sex', 'Age', 'SibSp', 'Parch', 'Fare', 'Embarked']\n",
    "# 'Ticket', 'Cabin'\n",
    "train_x = train_data[used_feats]\n",
    "test_x  = test_data[used_feats]\n",
    "train_y = train_data['Survived']\n",
    "test_id = test_data['PassengerId']\n",
    " "
   ]
  },
  {
   "cell_type": "code",
   "execution_count": 112,
   "metadata": {},
   "outputs": [],
   "source": [
    "#print(train_x)\n",
    "#print(train_y)\n",
    "\n",
    "# Training a SVM with RBF\n",
    "model = svm.SVC(kernel='rbf', gamma=1, C=1000)\n",
    "model.fit(train_x, train_y)\n",
    "pred = model.predict(test_x)\n",
    "\n",
    "# Cross validation\n",
    "\n",
    "df_pred = pd.DataFrame(test_id, columns = ['PassengerId'])\n",
    "df_pred['Survived'] = pred\n",
    "#print(df_pred)\n",
    "\n",
    "# Saving as csv\n",
    "preds = df_pred.to_csv('dbjrelind2_pred.csv', index = False)\n"
   ]
  },
  {
   "cell_type": "markdown",
   "metadata": {},
   "source": [
    "Notes no self:\n",
    "\n",
    "- Do metric for test preds\n",
    "- Find what params are best\n",
    "- Cross validation?"
   ]
  },
  {
   "cell_type": "code",
   "execution_count": null,
   "metadata": {},
   "outputs": [],
   "source": []
  },
  {
   "cell_type": "code",
   "execution_count": null,
   "metadata": {},
   "outputs": [],
   "source": []
  }
 ],
 "metadata": {
  "kernelspec": {
   "display_name": "Python 3",
   "language": "python",
   "name": "python3"
  },
  "language_info": {
   "codemirror_mode": {
    "name": "ipython",
    "version": 3
   },
   "file_extension": ".py",
   "mimetype": "text/x-python",
   "name": "python",
   "nbconvert_exporter": "python",
   "pygments_lexer": "ipython3",
   "version": "3.8.3"
  }
 },
 "nbformat": 4,
 "nbformat_minor": 4
}
